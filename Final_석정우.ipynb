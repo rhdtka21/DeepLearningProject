{
  "nbformat": 4,
  "nbformat_minor": 0,
  "metadata": {
    "colab": {
      "name": "Untitled9.ipynb",
      "provenance": [],
      "toc_visible": true,
      "authorship_tag": "ABX9TyNBQfVRiCeZuSL6auWztzVL",
      "include_colab_link": true
    },
    "kernelspec": {
      "name": "python3",
      "display_name": "Python 3"
    }
  },
  "cells": [
    {
      "cell_type": "markdown",
      "metadata": {
        "id": "view-in-github",
        "colab_type": "text"
      },
      "source": [
        "<a href=\"https://colab.research.google.com/github/rhdtka21/DeepLearningProject/blob/master/Final_%EC%84%9D%EC%A0%95%EC%9A%B0.ipynb\" target=\"_parent\"><img src=\"https://colab.research.google.com/assets/colab-badge.svg\" alt=\"Open In Colab\"/></a>"
      ]
    },
    {
      "cell_type": "code",
      "metadata": {
        "id": "nX9VjoJTA65X",
        "colab_type": "code",
        "colab": {}
      },
      "source": [
        "import numpy as np\n",
        "import pandas as pd\n",
        "import matplotlib.pyplot as plt\n",
        "import seaborn as sns"
      ],
      "execution_count": 0,
      "outputs": []
    },
    {
      "cell_type": "code",
      "metadata": {
        "id": "rLpwQ7QTBjmF",
        "colab_type": "code",
        "colab": {}
      },
      "source": [
        "train = pd.read_csv('train.csv')\n",
        "test = pd.read_csv('test.csv')\n",
        "train.head()"
      ],
      "execution_count": 0,
      "outputs": []
    },
    {
      "cell_type": "code",
      "metadata": {
        "id": "rxPvNVgcBtK2",
        "colab_type": "code",
        "colab": {}
      },
      "source": [
        "train.set_index('Id', inplace=True)\n",
        "test.set_index('Id', inplace=True)\n",
        "len_train = len(train)\n",
        "len_test = len(test)"
      ],
      "execution_count": 0,
      "outputs": []
    },
    {
      "cell_type": "code",
      "metadata": {
        "id": "M8YT-rcJBxRk",
        "colab_type": "code",
        "colab": {}
      },
      "source": [
        "corrmat = train.corr()\n",
        "top_corr_features = corrmat.index[abs(corrmat[\"SalePrice\"])>=0.2]\n",
        "top_corr_features"
      ],
      "execution_count": 0,
      "outputs": []
    },
    {
      "cell_type": "code",
      "metadata": {
        "id": "xu5sj50FBzCp",
        "colab_type": "code",
        "colab": {}
      },
      "source": [
        "plt.figure(figsize=(13,10))\n",
        "g = sns.heatmap(train[top_corr_features].corr(),annot=True,cmap=\"RdYlGn\")"
      ],
      "execution_count": 0,
      "outputs": []
    },
    {
      "cell_type": "code",
      "metadata": {
        "id": "243-pG9CBzg2",
        "colab_type": "code",
        "colab": {}
      },
      "source": [
        "train_y_label = train['SalePrice']\n",
        "train.drop(['SalePrice'], axis=1, inplace=True)"
      ],
      "execution_count": 0,
      "outputs": []
    },
    {
      "cell_type": "code",
      "metadata": {
        "id": "CfRFkBCPBzjI",
        "colab_type": "code",
        "colab": {}
      },
      "source": [
        "house = pd.concat((train, test), axis=0)\n",
        "house_index = house.index\n",
        "print('Length of House Dataset : ',len(house))\n",
        "house.head()"
      ],
      "execution_count": 0,
      "outputs": []
    },
    {
      "cell_type": "code",
      "metadata": {
        "id": "Retj63ivBzls",
        "colab_type": "code",
        "colab": {}
      },
      "source": [
        "check_null = house.isna().sum() / len(house)\n",
        "check_null[check_null >= 0.5]"
      ],
      "execution_count": 0,
      "outputs": []
    },
    {
      "cell_type": "code",
      "metadata": {
        "id": "zStmOOTlBzn9",
        "colab_type": "code",
        "colab": {}
      },
      "source": [
        "remove_cols = check_null[check_null >= 0.5].keys()\n",
        "house = house.drop(remove_cols, axis=1)\n",
        "house.head()"
      ],
      "execution_count": 0,
      "outputs": []
    },
    {
      "cell_type": "code",
      "metadata": {
        "id": "O_7Rg3NWBzqH",
        "colab_type": "code",
        "colab": {}
      },
      "source": [
        "house_obj = house.select_dtypes(include='object')\n",
        "house_num = house.select_dtypes(exclude='object')\n",
        "\n",
        "print('Object type columns:\\n',house_obj.columns)\n",
        "print('--------------------------------')\n",
        "print('Numeric type columns:\\n',house_num.columns)"
      ],
      "execution_count": 0,
      "outputs": []
    },
    {
      "cell_type": "code",
      "metadata": {
        "id": "3AY0u3YXBzsE",
        "colab_type": "code",
        "colab": {}
      },
      "source": [
        "house_dummy = pd.get_dummies(house_obj, drop_first=True)\n",
        "house_dummy.index = house_index\n",
        "house_dummy.head()"
      ],
      "execution_count": 0,
      "outputs": []
    },
    {
      "cell_type": "code",
      "metadata": {
        "id": "7ek9xdVdBzuF",
        "colab_type": "code",
        "colab": {}
      },
      "source": [
        "from sklearn.impute import SimpleImputer\n",
        "\n",
        "imputer = SimpleImputer(strategy='mean')\n",
        "imputer.fit(house_num)\n",
        "house_num_ = imputer.transform(house_num)\n",
        "house_num = pd.DataFrame(house_num_, columns=house_num.columns, index=house_index)\n",
        "\n",
        "house_num.head()"
      ],
      "execution_count": 0,
      "outputs": []
    },
    {
      "cell_type": "code",
      "metadata": {
        "id": "BH8Ekt3bBzwB",
        "colab_type": "code",
        "colab": {}
      },
      "source": [
        "house = pd.merge(house_dummy, house_num, left_index=True, right_index=True)\n",
        "\n",
        "house.head()"
      ],
      "execution_count": 0,
      "outputs": []
    },
    {
      "cell_type": "code",
      "metadata": {
        "id": "w0oM14qIBzx-",
        "colab_type": "code",
        "colab": {}
      },
      "source": [
        "train = house[:len_train]\n",
        "test = house[len_train:]\n",
        "train['SalePrice'] = train_y_label\n",
        "\n",
        "print('train set length: ',len(train))\n",
        "print('test set length: ',len(test))"
      ],
      "execution_count": 0,
      "outputs": []
    },
    {
      "cell_type": "code",
      "metadata": {
        "id": "9rGKJwQMBzzs",
        "colab_type": "code",
        "colab": {}
      },
      "source": [
        "from sklearn.model_selection import train_test_split\n",
        "\n",
        "X_train = train.drop(['SalePrice'], axis=1)\n",
        "y_train = train['SalePrice']\n",
        "X_train, X_val, y_train, y_val = train_test_split(X_train, y_train, test_size=0.2, shuffle=True)\n",
        "\n",
        "X_test = test\n",
        "test_id_idx = test.index\n",
        "\n",
        "print('X_train : ',len(X_train))\n",
        "print('X_val : ',len(X_val))\n",
        "print('X_test :',len(X_test))"
      ],
      "execution_count": 0,
      "outputs": []
    },
    {
      "cell_type": "code",
      "metadata": {
        "id": "3DeJOUWnBz1q",
        "colab_type": "code",
        "colab": {}
      },
      "source": [
        "from sklearn.model_selection import GridSearchCV\n",
        "import xgboost as xgb\n",
        "\n",
        "param = {\n",
        "  'max_depth':[2,3,4],\n",
        "  'n_estimators':range(550,700,50),\n",
        "  'colsample_bytree':[0.5,0.7,1],\n",
        "  'colsample_bylevel':[0.5,0.7,1],\n",
        "}\n",
        "\n",
        "model = xgb.XGBRegressor()\n",
        "\n",
        "grid_search = GridSearchCV(\n",
        "    estimator = model, param_grid = param, cv=5, \n",
        "    scoring='neg_mean_squared_error', n_jobs=-1, iid = False\n",
        ")\n",
        "\n",
        "grid_search.fit(X_train, y_train)\n",
        "\n",
        "#print(grid_search.best_params_)\n",
        "#print(grid_search.best_estimator_)"
      ],
      "execution_count": 0,
      "outputs": []
    },
    {
      "cell_type": "code",
      "metadata": {
        "id": "vTznxCUDBz3h",
        "colab_type": "code",
        "colab": {}
      },
      "source": [
        "from sklearn.linear_model import LogisticRegression\n",
        "\n",
        "log_reg = LogisticRegression(random_state=13, solver='lbfgs', C=1000., multi_class='multinomial')\n",
        "\n",
        "log_reg.fit(X_train, y_train)"
      ],
      "execution_count": 0,
      "outputs": []
    },
    {
      "cell_type": "code",
      "metadata": {
        "id": "RiNOsairBz5R",
        "colab_type": "code",
        "colab": {}
      },
      "source": [
        "from sklearn.metrics import mean_squared_error\n",
        "from sklearn.metrics import mean_absolute_error\n",
        "\n",
        "pred_train = grid_search.predict(X_train)\n",
        "pred_val = grid_search.predict(X_val)\n",
        "\n",
        "print('train mae score: ', mean_absolute_error(y_train, pred_train))\n",
        "print('val mae score:', mean_absolute_error(y_val, pred_val))"
      ],
      "execution_count": 0,
      "outputs": []
    },
    {
      "cell_type": "code",
      "metadata": {
        "id": "g4vqAJhSBz7E",
        "colab_type": "code",
        "colab": {}
      },
      "source": [
        "plt.figure(figsize=(17,7))\n",
        "\n",
        "plt.plot(range(0, len(y_val)), y_val, 'o-', label='Validation Actual')\n",
        "plt.plot(range(0, len(pred_val)), pred_val, '-', label='Validation Predict')\n",
        "\n",
        "plt.title('Prediction of House Prices')\n",
        "plt.ylabel('Prices')\n",
        "\n",
        "plt.legend()"
      ],
      "execution_count": 0,
      "outputs": []
    },
    {
      "cell_type": "code",
      "metadata": {
        "id": "E2Ine06_Bz8t",
        "colab_type": "code",
        "colab": {}
      },
      "source": [
        "from sklearn.metrics import mean_squared_error\n",
        "from sklearn.metrics import mean_absolute_error\n",
        "\n",
        "pred_train = log_reg.predict(X_train)\n",
        "pred_val = log_reg.predict(X_val)\n",
        "\n",
        "print('train mae score: ', mean_absolute_error(y_train, pred_train))\n",
        "print('val mae score:', mean_absolute_error(y_val, pred_val))"
      ],
      "execution_count": 0,
      "outputs": []
    },
    {
      "cell_type": "code",
      "metadata": {
        "id": "RW5nyIBGCFTY",
        "colab_type": "code",
        "colab": {}
      },
      "source": [
        "plt.figure(figsize=(17,7))\n",
        "\n",
        "plt.plot(range(0, len(y_val)), y_val,'o-', label='Validation Actual')\n",
        "plt.plot(range(0, len(pred_val)), pred_val, '-', label='Validation Predict')\n",
        "\n",
        "plt.title('Prediction of House Prices')\n",
        "\n",
        "plt.ylabel('Prices')\n",
        "plt.legend()"
      ],
      "execution_count": 0,
      "outputs": []
    }
  ]
}